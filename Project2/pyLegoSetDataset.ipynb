{
 "cells": [
  {
   "attachments": {},
   "cell_type": "markdown",
   "metadata": {},
   "source": [
    "**Use of the lego Dataset to work on Project 2: Data Analysis in Python**\n"
   ]
  },
  {
   "attachments": {},
   "cell_type": "markdown",
   "metadata": {},
   "source": [
    "Dataset Used: https://www.kaggle.com/datasets/mterzolo/lego-sets?select=lego_sets.csv"
   ]
  },
  {
   "attachments": {},
   "cell_type": "markdown",
   "metadata": {},
   "source": [
    "The dataset we used is a public dataset posted on Kaggle. The initial dataset was created by user 'MattieTerzolo' for the simple purpose of curiousity regarding questions regarding the world of Legos. The dataset is in a lego_sets.csv file with 14 various columns. Some of the columns include recommended ages, set name, price, piece count, and review ratings.\n",
    "\n",
    "Legos have been a staple in children’s entertainment for decades and continue to thrive in today’s climate with hundreds of thousands of children actively enjoying this renowned product. Developed from a wooden toy in the 1930s, The Lego Group is now estimated to be worth over 11 billion dollars, with hundreds of different products readily available. While many have come and gone with their own replicas, Lego has truly skyrocketed to become one of its own in the toy industry. "
   ]
  },
  {
   "attachments": {},
   "cell_type": "markdown",
   "metadata": {},
   "source": [
    "**Questions:**\n",
    "\n",
    "1. What features might contribute to a higher star rating?\n",
    "2. How many products fall within the different price ranges? (We would have to categoirize this into low, medium, high).\n",
    "3. Piece count of lego sets based on themes. Which themes have the highest and lowest piece counts on average?\n",
    "4. What is the correlation between the piece count and the price of each set?\n",
    "5. Interesting idea for a question (WE CHOOSE A THEME AND ANALYZE THE PRICE DIFFERENCES BETWEEN HEROES/VILLAINS LIKE BATMAN VS JOKER)??\n",
    "6. Box plot for (CORRELATION BETWEEN PRICE AND REVIEW DIFFICULTY)\n",
    "7. COMPARE MOST EXPENSIVE SET VS CHEAPEST SET!!!!\n",
    "8. What age range is the most popular among Lego sets?"
   ]
  },
  {
   "cell_type": "markdown",
   "metadata": {},
   "source": [
    "**QUESTION 1, 3, AND 5 ARE DONE!!!!!!!!!!!!!!!!!!!**"
   ]
  },
  {
   "cell_type": "markdown",
   "metadata": {},
   "source": [
    "**Data Wrangling**"
   ]
  },
  {
   "cell_type": "code",
   "execution_count": 2,
   "metadata": {},
   "outputs": [
    {
     "data": {
      "text/html": [
       "<div>\n",
       "<style scoped>\n",
       "    .dataframe tbody tr th:only-of-type {\n",
       "        vertical-align: middle;\n",
       "    }\n",
       "\n",
       "    .dataframe tbody tr th {\n",
       "        vertical-align: top;\n",
       "    }\n",
       "\n",
       "    .dataframe thead th {\n",
       "        text-align: right;\n",
       "    }\n",
       "</style>\n",
       "<table border=\"1\" class=\"dataframe\">\n",
       "  <thead>\n",
       "    <tr style=\"text-align: right;\">\n",
       "      <th></th>\n",
       "      <th>list_price</th>\n",
       "      <th>num_reviews</th>\n",
       "      <th>piece_count</th>\n",
       "      <th>play_star_rating</th>\n",
       "      <th>prod_id</th>\n",
       "      <th>star_rating</th>\n",
       "      <th>val_star_rating</th>\n",
       "    </tr>\n",
       "  </thead>\n",
       "  <tbody>\n",
       "    <tr>\n",
       "      <th>count</th>\n",
       "      <td>12261.000000</td>\n",
       "      <td>10641.000000</td>\n",
       "      <td>12261.000000</td>\n",
       "      <td>10486.000000</td>\n",
       "      <td>1.226100e+04</td>\n",
       "      <td>10641.000000</td>\n",
       "      <td>10466.000000</td>\n",
       "    </tr>\n",
       "    <tr>\n",
       "      <th>mean</th>\n",
       "      <td>65.141998</td>\n",
       "      <td>16.826238</td>\n",
       "      <td>493.405921</td>\n",
       "      <td>4.337641</td>\n",
       "      <td>5.983675e+04</td>\n",
       "      <td>4.514134</td>\n",
       "      <td>4.228960</td>\n",
       "    </tr>\n",
       "    <tr>\n",
       "      <th>std</th>\n",
       "      <td>91.980429</td>\n",
       "      <td>36.368984</td>\n",
       "      <td>825.364580</td>\n",
       "      <td>0.652051</td>\n",
       "      <td>1.638115e+05</td>\n",
       "      <td>0.518865</td>\n",
       "      <td>0.660282</td>\n",
       "    </tr>\n",
       "    <tr>\n",
       "      <th>min</th>\n",
       "      <td>2.272400</td>\n",
       "      <td>1.000000</td>\n",
       "      <td>1.000000</td>\n",
       "      <td>1.000000</td>\n",
       "      <td>6.300000e+02</td>\n",
       "      <td>1.800000</td>\n",
       "      <td>1.000000</td>\n",
       "    </tr>\n",
       "    <tr>\n",
       "      <th>25%</th>\n",
       "      <td>19.990000</td>\n",
       "      <td>2.000000</td>\n",
       "      <td>97.000000</td>\n",
       "      <td>4.000000</td>\n",
       "      <td>2.103400e+04</td>\n",
       "      <td>4.300000</td>\n",
       "      <td>4.000000</td>\n",
       "    </tr>\n",
       "    <tr>\n",
       "      <th>50%</th>\n",
       "      <td>36.587800</td>\n",
       "      <td>6.000000</td>\n",
       "      <td>216.000000</td>\n",
       "      <td>4.500000</td>\n",
       "      <td>4.206900e+04</td>\n",
       "      <td>4.700000</td>\n",
       "      <td>4.300000</td>\n",
       "    </tr>\n",
       "    <tr>\n",
       "      <th>75%</th>\n",
       "      <td>70.192200</td>\n",
       "      <td>13.000000</td>\n",
       "      <td>544.000000</td>\n",
       "      <td>4.800000</td>\n",
       "      <td>7.092200e+04</td>\n",
       "      <td>5.000000</td>\n",
       "      <td>4.700000</td>\n",
       "    </tr>\n",
       "    <tr>\n",
       "      <th>max</th>\n",
       "      <td>1104.870000</td>\n",
       "      <td>367.000000</td>\n",
       "      <td>7541.000000</td>\n",
       "      <td>5.000000</td>\n",
       "      <td>2.000431e+06</td>\n",
       "      <td>5.000000</td>\n",
       "      <td>5.000000</td>\n",
       "    </tr>\n",
       "  </tbody>\n",
       "</table>\n",
       "</div>"
      ],
      "text/plain": [
       "         list_price   num_reviews   piece_count  play_star_rating  \\\n",
       "count  12261.000000  10641.000000  12261.000000      10486.000000   \n",
       "mean      65.141998     16.826238    493.405921          4.337641   \n",
       "std       91.980429     36.368984    825.364580          0.652051   \n",
       "min        2.272400      1.000000      1.000000          1.000000   \n",
       "25%       19.990000      2.000000     97.000000          4.000000   \n",
       "50%       36.587800      6.000000    216.000000          4.500000   \n",
       "75%       70.192200     13.000000    544.000000          4.800000   \n",
       "max     1104.870000    367.000000   7541.000000          5.000000   \n",
       "\n",
       "            prod_id   star_rating  val_star_rating  \n",
       "count  1.226100e+04  10641.000000     10466.000000  \n",
       "mean   5.983675e+04      4.514134         4.228960  \n",
       "std    1.638115e+05      0.518865         0.660282  \n",
       "min    6.300000e+02      1.800000         1.000000  \n",
       "25%    2.103400e+04      4.300000         4.000000  \n",
       "50%    4.206900e+04      4.700000         4.300000  \n",
       "75%    7.092200e+04      5.000000         4.700000  \n",
       "max    2.000431e+06      5.000000         5.000000  "
      ]
     },
     "execution_count": 2,
     "metadata": {},
     "output_type": "execute_result"
    }
   ],
   "source": [
    "import numpy as np\n",
    "import matplotlib.pyplot as plt\n",
    "import pandas as pd\n",
    "import seaborn as sns\n",
    "\n",
    "lego = pd.read_csv(\"datasets/lego_dataset.csv\")\n",
    "lego = lego.sort_values(by = 'list_price', ascending = False)\n",
    "lego.describe()"
   ]
  },
  {
   "cell_type": "markdown",
   "metadata": {},
   "source": [
    "The info function gives us an insight into the dataset."
   ]
  },
  {
   "cell_type": "code",
   "execution_count": 3,
   "metadata": {},
   "outputs": [
    {
     "name": "stdout",
     "output_type": "stream",
     "text": [
      "<class 'pandas.core.frame.DataFrame'>\n",
      "Int64Index: 12261 entries, 9979 to 912\n",
      "Data columns (total 14 columns):\n",
      " #   Column             Non-Null Count  Dtype  \n",
      "---  ------             --------------  -----  \n",
      " 0   ages               12261 non-null  object \n",
      " 1   list_price         12261 non-null  float64\n",
      " 2   num_reviews        10641 non-null  float64\n",
      " 3   piece_count        12261 non-null  float64\n",
      " 4   play_star_rating   10486 non-null  float64\n",
      " 5   prod_desc          11884 non-null  object \n",
      " 6   prod_id            12261 non-null  float64\n",
      " 7   prod_long_desc     12261 non-null  object \n",
      " 8   review_difficulty  10206 non-null  object \n",
      " 9   set_name           12261 non-null  object \n",
      " 10  star_rating        10641 non-null  float64\n",
      " 11  theme_name         12258 non-null  object \n",
      " 12  val_star_rating    10466 non-null  float64\n",
      " 13  country            12261 non-null  object \n",
      "dtypes: float64(7), object(7)\n",
      "memory usage: 1.4+ MB\n"
     ]
    }
   ],
   "source": [
    "lego.info()"
   ]
  },
  {
   "attachments": {},
   "cell_type": "markdown",
   "metadata": {},
   "source": [
    "The line below shows the name of all the themes of the various Lego sets in the database."
   ]
  },
  {
   "cell_type": "code",
   "execution_count": 4,
   "metadata": {},
   "outputs": [
    {
     "data": {
      "text/plain": [
       "array(['Star Wars™', 'SERIOUS PLAY®', 'MINDSTORMS®', 'Ghostbusters™',\n",
       "       'Disney™', 'Creator Expert', 'Technic',\n",
       "       'THE LEGO® NINJAGO® MOVIE™', 'THE LEGO® BATMAN MOVIE',\n",
       "       'Minecraft™', 'NINJAGO®', 'DC Comics™ Super Heroes', 'City',\n",
       "       'BOOST', 'Ideas', 'Indoraptor Rampage at Lockwood Estate',\n",
       "       'Marvel Super Heroes', 'NEXO KNIGHTS™', 'DUPLO®', 'Friends',\n",
       "       'Architecture', 'Speed Champions', 'DIMENSIONS™',\n",
       "       'Carnotaurus Gyrosphere Escape', 'Elves', 'T. rex Transport',\n",
       "       'DC Super Hero Girls', 'Creator 3-in-1', 'Juniors',\n",
       "       'Jurassic Park Velociraptor Chase', 'Dilophosaurus Outpost Attack',\n",
       "       \"Blue's Helicopter Pursuit\", 'Classic', 'Stygimoloch Breakout',\n",
       "       'LEGO® Creator 3-in-1', 'Power Functions', nan, 'BrickHeadz',\n",
       "       'Pteranodon Chase', 'Angry Birds™', 'Minifigures'], dtype=object)"
      ]
     },
     "execution_count": 4,
     "metadata": {},
     "output_type": "execute_result"
    }
   ],
   "source": [
    "uniqueThemeNames = (lego[\"theme_name\"].unique())\n",
    "uniqueThemeNames"
   ]
  },
  {
   "cell_type": "markdown",
   "metadata": {},
   "source": [
    "The code shows the unique countries in the dataset."
   ]
  },
  {
   "cell_type": "code",
   "execution_count": 5,
   "metadata": {},
   "outputs": [
    {
     "name": "stdout",
     "output_type": "stream",
     "text": [
      "['NO' 'FI' 'NZ' 'BE' 'LU' 'NL' 'PL' 'AU' 'FR' 'IT' 'AT' 'ES' 'DE' 'PT'\n",
      " 'IE' 'CH' 'CZ' 'GB' 'DN' 'US' 'CA']\n"
     ]
    }
   ],
   "source": [
    "print(lego[\"country\"].unique())"
   ]
  },
  {
   "cell_type": "markdown",
   "metadata": {},
   "source": [
    "The code shows distinct set names in the dataset."
   ]
  },
  {
   "cell_type": "code",
   "execution_count": 6,
   "metadata": {},
   "outputs": [],
   "source": [
    "distinctSets = lego.drop_duplicates(subset = 'set_name')\n",
    "#sortedByPrice = distinctSets.sort_values(by = 'list_price', ascending = False)\n",
    "#sortedByPrice[['set_name','list_price']].head(10)\n",
    "\n",
    "##THIS CODE HAS TO BE CHANGED SO THAT WE SORT FIRST AND THEN DROP DUPLICATES TO GET THE HIGHEST LIST PRICE"
   ]
  },
  {
   "cell_type": "markdown",
   "metadata": {},
   "source": [
    "This code shows distinct theme names in the dataset."
   ]
  },
  {
   "cell_type": "code",
   "execution_count": 7,
   "metadata": {},
   "outputs": [
    {
     "data": {
      "text/html": [
       "<div>\n",
       "<style scoped>\n",
       "    .dataframe tbody tr th:only-of-type {\n",
       "        vertical-align: middle;\n",
       "    }\n",
       "\n",
       "    .dataframe tbody tr th {\n",
       "        vertical-align: top;\n",
       "    }\n",
       "\n",
       "    .dataframe thead th {\n",
       "        text-align: right;\n",
       "    }\n",
       "</style>\n",
       "<table border=\"1\" class=\"dataframe\">\n",
       "  <thead>\n",
       "    <tr style=\"text-align: right;\">\n",
       "      <th></th>\n",
       "      <th>theme_name</th>\n",
       "      <th>piece_count</th>\n",
       "    </tr>\n",
       "  </thead>\n",
       "  <tbody>\n",
       "    <tr>\n",
       "      <th>9979</th>\n",
       "      <td>Star Wars™</td>\n",
       "      <td>7541.0</td>\n",
       "    </tr>\n",
       "    <tr>\n",
       "      <th>6250</th>\n",
       "      <td>Creator Expert</td>\n",
       "      <td>5923.0</td>\n",
       "    </tr>\n",
       "    <tr>\n",
       "      <th>6663</th>\n",
       "      <td>THE LEGO® NINJAGO® MOVIE™</td>\n",
       "      <td>4867.0</td>\n",
       "    </tr>\n",
       "    <tr>\n",
       "      <th>9754</th>\n",
       "      <td>Ghostbusters™</td>\n",
       "      <td>4634.0</td>\n",
       "    </tr>\n",
       "    <tr>\n",
       "      <th>9643</th>\n",
       "      <td>Disney™</td>\n",
       "      <td>4080.0</td>\n",
       "    </tr>\n",
       "    <tr>\n",
       "      <th>10004</th>\n",
       "      <td>THE LEGO® BATMAN MOVIE</td>\n",
       "      <td>3444.0</td>\n",
       "    </tr>\n",
       "    <tr>\n",
       "      <th>6480</th>\n",
       "      <td>Minecraft™</td>\n",
       "      <td>2863.0</td>\n",
       "    </tr>\n",
       "    <tr>\n",
       "      <th>4397</th>\n",
       "      <td>Technic</td>\n",
       "      <td>2704.0</td>\n",
       "    </tr>\n",
       "    <tr>\n",
       "      <th>11041</th>\n",
       "      <td>SERIOUS PLAY®</td>\n",
       "      <td>2631.0</td>\n",
       "    </tr>\n",
       "    <tr>\n",
       "      <th>204</th>\n",
       "      <td>DC Comics™ Super Heroes</td>\n",
       "      <td>2526.0</td>\n",
       "    </tr>\n",
       "  </tbody>\n",
       "</table>\n",
       "</div>"
      ],
      "text/plain": [
       "                      theme_name  piece_count\n",
       "9979                  Star Wars™       7541.0\n",
       "6250              Creator Expert       5923.0\n",
       "6663   THE LEGO® NINJAGO® MOVIE™       4867.0\n",
       "9754               Ghostbusters™       4634.0\n",
       "9643                     Disney™       4080.0\n",
       "10004     THE LEGO® BATMAN MOVIE       3444.0\n",
       "6480                  Minecraft™       2863.0\n",
       "4397                     Technic       2704.0\n",
       "11041              SERIOUS PLAY®       2631.0\n",
       "204      DC Comics™ Super Heroes       2526.0"
      ]
     },
     "execution_count": 7,
     "metadata": {},
     "output_type": "execute_result"
    }
   ],
   "source": [
    "distinctThemes = lego.drop_duplicates(subset = 'theme_name')\n",
    "\n",
    "sortedByCount = distinctThemes.sort_values(by = 'piece_count', ascending = False)\n",
    "\n",
    "sortedByCount[['theme_name','piece_count']].head(10)\n",
    "##THIS CODE HAS TO BE CHANGED SAME AS ABOVE.\n"
   ]
  },
  {
   "cell_type": "markdown",
   "metadata": {},
   "source": [
    "**Question 1**"
   ]
  },
  {
   "cell_type": "code",
   "execution_count": 8,
   "metadata": {},
   "outputs": [
    {
     "data": {
      "text/html": [
       "<div>\n",
       "<style scoped>\n",
       "    .dataframe tbody tr th:only-of-type {\n",
       "        vertical-align: middle;\n",
       "    }\n",
       "\n",
       "    .dataframe tbody tr th {\n",
       "        vertical-align: top;\n",
       "    }\n",
       "\n",
       "    .dataframe thead th {\n",
       "        text-align: right;\n",
       "    }\n",
       "</style>\n",
       "<table border=\"1\" class=\"dataframe\">\n",
       "  <thead>\n",
       "    <tr style=\"text-align: right;\">\n",
       "      <th></th>\n",
       "      <th>star_rating</th>\n",
       "      <th>list_price</th>\n",
       "      <th>num_reviews</th>\n",
       "      <th>piece_count</th>\n",
       "    </tr>\n",
       "  </thead>\n",
       "  <tbody>\n",
       "    <tr>\n",
       "      <th>0</th>\n",
       "      <td>1.8</td>\n",
       "      <td>74.827981</td>\n",
       "      <td>37.000000</td>\n",
       "      <td>370.000000</td>\n",
       "    </tr>\n",
       "    <tr>\n",
       "      <th>1</th>\n",
       "      <td>2.2</td>\n",
       "      <td>29.228790</td>\n",
       "      <td>6.000000</td>\n",
       "      <td>24.000000</td>\n",
       "    </tr>\n",
       "    <tr>\n",
       "      <th>2</th>\n",
       "      <td>2.5</td>\n",
       "      <td>22.148600</td>\n",
       "      <td>89.000000</td>\n",
       "      <td>24.000000</td>\n",
       "    </tr>\n",
       "    <tr>\n",
       "      <th>3</th>\n",
       "      <td>2.6</td>\n",
       "      <td>68.722523</td>\n",
       "      <td>23.169231</td>\n",
       "      <td>518.430769</td>\n",
       "    </tr>\n",
       "    <tr>\n",
       "      <th>4</th>\n",
       "      <td>2.7</td>\n",
       "      <td>38.984171</td>\n",
       "      <td>3.000000</td>\n",
       "      <td>378.000000</td>\n",
       "    </tr>\n",
       "    <tr>\n",
       "      <th>5</th>\n",
       "      <td>2.8</td>\n",
       "      <td>54.791100</td>\n",
       "      <td>5.000000</td>\n",
       "      <td>475.000000</td>\n",
       "    </tr>\n",
       "    <tr>\n",
       "      <th>6</th>\n",
       "      <td>2.9</td>\n",
       "      <td>17.071100</td>\n",
       "      <td>19.000000</td>\n",
       "      <td>61.000000</td>\n",
       "    </tr>\n",
       "    <tr>\n",
       "      <th>7</th>\n",
       "      <td>3.0</td>\n",
       "      <td>17.231586</td>\n",
       "      <td>1.792453</td>\n",
       "      <td>114.000000</td>\n",
       "    </tr>\n",
       "    <tr>\n",
       "      <th>8</th>\n",
       "      <td>3.2</td>\n",
       "      <td>53.239372</td>\n",
       "      <td>5.606742</td>\n",
       "      <td>337.157303</td>\n",
       "    </tr>\n",
       "    <tr>\n",
       "      <th>9</th>\n",
       "      <td>3.3</td>\n",
       "      <td>63.530473</td>\n",
       "      <td>16.000000</td>\n",
       "      <td>464.666667</td>\n",
       "    </tr>\n",
       "    <tr>\n",
       "      <th>10</th>\n",
       "      <td>3.4</td>\n",
       "      <td>301.711017</td>\n",
       "      <td>25.292308</td>\n",
       "      <td>1282.984615</td>\n",
       "    </tr>\n",
       "    <tr>\n",
       "      <th>11</th>\n",
       "      <td>3.5</td>\n",
       "      <td>78.247236</td>\n",
       "      <td>21.892617</td>\n",
       "      <td>422.812081</td>\n",
       "    </tr>\n",
       "    <tr>\n",
       "      <th>12</th>\n",
       "      <td>3.6</td>\n",
       "      <td>25.506644</td>\n",
       "      <td>7.400000</td>\n",
       "      <td>179.600000</td>\n",
       "    </tr>\n",
       "    <tr>\n",
       "      <th>13</th>\n",
       "      <td>3.7</td>\n",
       "      <td>81.068130</td>\n",
       "      <td>6.446970</td>\n",
       "      <td>511.037879</td>\n",
       "    </tr>\n",
       "    <tr>\n",
       "      <th>14</th>\n",
       "      <td>3.8</td>\n",
       "      <td>93.375581</td>\n",
       "      <td>40.336207</td>\n",
       "      <td>798.258621</td>\n",
       "    </tr>\n",
       "    <tr>\n",
       "      <th>15</th>\n",
       "      <td>3.9</td>\n",
       "      <td>142.851590</td>\n",
       "      <td>30.460177</td>\n",
       "      <td>930.858407</td>\n",
       "    </tr>\n",
       "    <tr>\n",
       "      <th>16</th>\n",
       "      <td>4.0</td>\n",
       "      <td>39.953672</td>\n",
       "      <td>3.496795</td>\n",
       "      <td>239.086538</td>\n",
       "    </tr>\n",
       "    <tr>\n",
       "      <th>17</th>\n",
       "      <td>4.1</td>\n",
       "      <td>50.729563</td>\n",
       "      <td>15.299296</td>\n",
       "      <td>250.862676</td>\n",
       "    </tr>\n",
       "    <tr>\n",
       "      <th>18</th>\n",
       "      <td>4.2</td>\n",
       "      <td>63.211031</td>\n",
       "      <td>13.837004</td>\n",
       "      <td>553.889868</td>\n",
       "    </tr>\n",
       "    <tr>\n",
       "      <th>19</th>\n",
       "      <td>4.3</td>\n",
       "      <td>83.226217</td>\n",
       "      <td>10.834163</td>\n",
       "      <td>440.562189</td>\n",
       "    </tr>\n",
       "    <tr>\n",
       "      <th>20</th>\n",
       "      <td>4.4</td>\n",
       "      <td>74.774662</td>\n",
       "      <td>19.772727</td>\n",
       "      <td>541.196023</td>\n",
       "    </tr>\n",
       "    <tr>\n",
       "      <th>21</th>\n",
       "      <td>4.5</td>\n",
       "      <td>53.662689</td>\n",
       "      <td>12.218332</td>\n",
       "      <td>434.557158</td>\n",
       "    </tr>\n",
       "    <tr>\n",
       "      <th>22</th>\n",
       "      <td>4.6</td>\n",
       "      <td>102.875913</td>\n",
       "      <td>26.669554</td>\n",
       "      <td>868.183168</td>\n",
       "    </tr>\n",
       "    <tr>\n",
       "      <th>23</th>\n",
       "      <td>4.7</td>\n",
       "      <td>67.713525</td>\n",
       "      <td>29.888489</td>\n",
       "      <td>550.461331</td>\n",
       "    </tr>\n",
       "    <tr>\n",
       "      <th>24</th>\n",
       "      <td>4.8</td>\n",
       "      <td>108.276333</td>\n",
       "      <td>31.896128</td>\n",
       "      <td>1026.915014</td>\n",
       "    </tr>\n",
       "    <tr>\n",
       "      <th>25</th>\n",
       "      <td>4.9</td>\n",
       "      <td>122.360164</td>\n",
       "      <td>54.421397</td>\n",
       "      <td>1390.082969</td>\n",
       "    </tr>\n",
       "    <tr>\n",
       "      <th>26</th>\n",
       "      <td>5.0</td>\n",
       "      <td>46.766079</td>\n",
       "      <td>3.197966</td>\n",
       "      <td>335.717036</td>\n",
       "    </tr>\n",
       "  </tbody>\n",
       "</table>\n",
       "</div>"
      ],
      "text/plain": [
       "    star_rating  list_price  num_reviews  piece_count\n",
       "0           1.8   74.827981    37.000000   370.000000\n",
       "1           2.2   29.228790     6.000000    24.000000\n",
       "2           2.5   22.148600    89.000000    24.000000\n",
       "3           2.6   68.722523    23.169231   518.430769\n",
       "4           2.7   38.984171     3.000000   378.000000\n",
       "5           2.8   54.791100     5.000000   475.000000\n",
       "6           2.9   17.071100    19.000000    61.000000\n",
       "7           3.0   17.231586     1.792453   114.000000\n",
       "8           3.2   53.239372     5.606742   337.157303\n",
       "9           3.3   63.530473    16.000000   464.666667\n",
       "10          3.4  301.711017    25.292308  1282.984615\n",
       "11          3.5   78.247236    21.892617   422.812081\n",
       "12          3.6   25.506644     7.400000   179.600000\n",
       "13          3.7   81.068130     6.446970   511.037879\n",
       "14          3.8   93.375581    40.336207   798.258621\n",
       "15          3.9  142.851590    30.460177   930.858407\n",
       "16          4.0   39.953672     3.496795   239.086538\n",
       "17          4.1   50.729563    15.299296   250.862676\n",
       "18          4.2   63.211031    13.837004   553.889868\n",
       "19          4.3   83.226217    10.834163   440.562189\n",
       "20          4.4   74.774662    19.772727   541.196023\n",
       "21          4.5   53.662689    12.218332   434.557158\n",
       "22          4.6  102.875913    26.669554   868.183168\n",
       "23          4.7   67.713525    29.888489   550.461331\n",
       "24          4.8  108.276333    31.896128  1026.915014\n",
       "25          4.9  122.360164    54.421397  1390.082969\n",
       "26          5.0   46.766079     3.197966   335.717036"
      ]
     },
     "execution_count": 8,
     "metadata": {},
     "output_type": "execute_result"
    }
   ],
   "source": [
    "##QUESTION 1\n",
    "\n",
    "stardf = lego[['list_price', 'num_reviews','piece_count','star_rating']]\n",
    "stardf = stardf.groupby('star_rating').mean().reset_index()\n",
    "\n",
    "stardf\n"
   ]
  },
  {
   "cell_type": "markdown",
   "metadata": {},
   "source": [
    "**Question 3**"
   ]
  },
  {
   "cell_type": "code",
   "execution_count": 9,
   "metadata": {},
   "outputs": [
    {
     "data": {
      "text/plain": [
       "Text(0, 0.5, 'Theme')"
      ]
     },
     "execution_count": 9,
     "metadata": {},
     "output_type": "execute_result"
    },
    {
     "data": {
      "image/png": "[encoded data removed]",
      "text/plain": [
       "<Figure size 1800x576 with 1 Axes>"
      ]
     },
     "metadata": {
      "needs_background": "light"
     },
     "output_type": "display_data"
    }
   ],
   "source": [
    "#Question 3 \n",
    "# #Piece count of lego sets based on themes. Which themes have the highest and lowest piece counts on average? #Data Calculations & Statistics \n",
    "theme_grouped = distinctSets.groupby(\"theme_name\") \n",
    "pieceByTheme = theme_grouped[\"piece_count\"] \n",
    "distinctMean = pieceByTheme.mean() \n",
    "pieceByTheme.median() \n",
    "top10 = distinctMean.nlargest(10).reset_index() \n",
    "plt.figure(figsize=(25, 8)) \n",
    "bar_colors = np.random.rand(5, 3)\n",
    "plt.bar(top10[\"theme_name\"], top10[\"piece_count\"], color= bar_colors) \n",
    "plt.title(\"Highest Average Piececount Based off Theme\") \n",
    "plt.xlabel(\"Average Piececount\", fontsize = 16) \n",
    "plt.ylabel(\"Theme\", fontsize = 18) # Find the top 5 themes based on mean"
   ]
  },
  {
   "cell_type": "markdown",
   "metadata": {},
   "source": [
    "**Question 5**"
   ]
  },
  {
   "cell_type": "code",
   "execution_count": 10,
   "metadata": {},
   "outputs": [
    {
     "data": {
      "image/png": "[encoded data removed]",
      "text/plain": [
       "<Figure size 432x288 with 1 Axes>"
      ]
     },
     "metadata": {
      "needs_background": "light"
     },
     "output_type": "display_data"
    }
   ],
   "source": [
    "palette = sns.color_palette(\"husl\", n_colors=len(uniqueThemeNames))\n",
    "\n",
    "# Create a scatter plot for each theme\n",
    "for i, theme in enumerate(uniqueThemeNames):\n",
    "    theme_data = distinctSets[distinctSets['theme_name'] == theme]\n",
    "    plt.scatter(theme_data['piece_count'], theme_data['list_price'], label=theme, color=palette[i])\n",
    "    \n",
    "x = theme_data['piece_count'].mean()\n",
    "y = theme_data['list_price'].mean()\n",
    "\n",
    "plt.title('Piece Count vs List Price for Lego Sets')\n",
    "plt.xlabel('Piece Count')\n",
    "plt.ylabel('List Price')\n",
    "plt.legend(title='Theme', bbox_to_anchor=(1.05, 1), loc='upper left')  # Add a legend\n",
    "plt.show()\n",
    "\n"
   ]
  },
  {
   "cell_type": "code",
   "execution_count": 11,
   "metadata": {},
   "outputs": [
    {
     "name": "stdout",
     "output_type": "stream",
     "text": [
      "y = 7.5x + 4.588\n"
     ]
    }
   ],
   "source": [
    "x = round(x,3)\n",
    "y = round(y, 3)\n",
    "bestFit = ('y = ', x, 'x + ', y )\n",
    "print(''.join(map(str, bestFit)))"
   ]
  },
  {
   "cell_type": "markdown",
   "metadata": {},
   "source": [
    "**Question 6**"
   ]
  },
  {
   "cell_type": "code",
   "execution_count": 12,
   "metadata": {},
   "outputs": [
    {
     "data": {
      "text/plain": [
       "Text(0.5, 0.98, '')"
      ]
     },
     "execution_count": 12,
     "metadata": {},
     "output_type": "execute_result"
    },
    {
     "data": {
      "image/png": "[encoded data removed]",
      "text/plain": [
       "<Figure size 432x288 with 1 Axes>"
      ]
     },
     "metadata": {
      "needs_background": "light"
     },
     "output_type": "display_data"
    }
   ],
   "source": [
    "distinctSets.boxplot(column = 'list_price', by = 'review_difficulty', patch_artist = True, vert = False, showfliers = False, boxprops = dict(facecolor = 'lightblue'))\n",
    "plt.xlabel('Price of Individual Lego Sets')\n",
    "plt.ylabel('Assembly Difficulty Reviews')\n",
    "plt.title('Prices of Lego Sets by Review Difficulty')\n",
    "plt.suptitle('')"
   ]
  },
  {
   "cell_type": "code",
   "execution_count": 13,
   "metadata": {},
   "outputs": [
    {
     "data": {
      "text/html": [
       "<div>\n",
       "<style scoped>\n",
       "    .dataframe tbody tr th:only-of-type {\n",
       "        vertical-align: middle;\n",
       "    }\n",
       "\n",
       "    .dataframe tbody tr th {\n",
       "        vertical-align: top;\n",
       "    }\n",
       "\n",
       "    .dataframe thead th {\n",
       "        text-align: right;\n",
       "    }\n",
       "</style>\n",
       "<table border=\"1\" class=\"dataframe\">\n",
       "  <thead>\n",
       "    <tr style=\"text-align: right;\">\n",
       "      <th></th>\n",
       "      <th>ages</th>\n",
       "      <th>list_price</th>\n",
       "      <th>num_reviews</th>\n",
       "      <th>piece_count</th>\n",
       "      <th>play_star_rating</th>\n",
       "      <th>prod_desc</th>\n",
       "      <th>prod_id</th>\n",
       "      <th>prod_long_desc</th>\n",
       "      <th>review_difficulty</th>\n",
       "      <th>set_name</th>\n",
       "      <th>star_rating</th>\n",
       "      <th>theme_name</th>\n",
       "      <th>val_star_rating</th>\n",
       "      <th>country</th>\n",
       "    </tr>\n",
       "  </thead>\n",
       "  <tbody>\n",
       "    <tr>\n",
       "      <th>6228</th>\n",
       "      <td>4+</td>\n",
       "      <td>3.599</td>\n",
       "      <td>180.0</td>\n",
       "      <td>1.0</td>\n",
       "      <td>4.0</td>\n",
       "      <td>Everyone needs one!</td>\n",
       "      <td>630.0</td>\n",
       "      <td>This tool makes it a snap to pull those small ...</td>\n",
       "      <td>Very Easy</td>\n",
       "      <td>Brick Separator</td>\n",
       "      <td>4.8</td>\n",
       "      <td>Classic</td>\n",
       "      <td>4.6</td>\n",
       "      <td>FI</td>\n",
       "    </tr>\n",
       "  </tbody>\n",
       "</table>\n",
       "</div>"
      ],
      "text/plain": [
       "     ages  list_price  num_reviews  piece_count  play_star_rating  \\\n",
       "6228   4+       3.599        180.0          1.0               4.0   \n",
       "\n",
       "                prod_desc  prod_id  \\\n",
       "6228  Everyone needs one!    630.0   \n",
       "\n",
       "                                         prod_long_desc review_difficulty  \\\n",
       "6228  This tool makes it a snap to pull those small ...         Very Easy   \n",
       "\n",
       "             set_name  star_rating theme_name  val_star_rating country  \n",
       "6228  Brick Separator          4.8    Classic              4.6      FI  "
      ]
     },
     "execution_count": 13,
     "metadata": {},
     "output_type": "execute_result"
    }
   ],
   "source": [
    "#Question 7\n",
    "\n",
    "mostExpensiveSet = distinctSets.head(1)\n",
    "leastExpensiveSet = distinctSets.tail(1)\n",
    "\n",
    "mostExpensiveSet\n",
    "leastExpensiveSet"
   ]
  },
  {
   "cell_type": "code",
   "execution_count": 24,
   "metadata": {},
   "outputs": [
    {
     "data": {
      "text/plain": [
       "Text(0.5, 1.0, 'Percentage of Lego Sets within Given Age Ranges')"
      ]
     },
     "execution_count": 24,
     "metadata": {},
     "output_type": "execute_result"
    },
    {
     "data": {
      "image/png": "[encoded data removed]",
      "text/plain": [
       "<Figure size 432x288 with 1 Axes>"
      ]
     },
     "metadata": {
      "needs_background": "light"
     },
     "output_type": "display_data"
    }
   ],
   "source": [
    "colors = ['red', 'blue', 'green', 'purple', 'orange', 'yellow', 'pink', 'cyan', 'brown', 'gray']\n",
    "variousAges = distinctSets.groupby(['ages']).size().sort_values(ascending = True)\n",
    "\n",
    "percentage = variousAges / len(distinctSets)\n",
    "\n",
    "percentage.head(10).plot.barh(color = colors)\n",
    "plt.xlabel('Percentage of Sets') \n",
    "plt.ylabel('Age Range')\n",
    "plt.title('Percentage of Lego Sets within Given Age Ranges')\n"
   ]
  }
 ],
 "metadata": {
  "kernelspec": {
   "display_name": "Python 3",
   "language": "python",
   "name": "python3"
  },
  "language_info": {
   "codemirror_mode": {
    "name": "ipython",
    "version": 3
   },
   "file_extension": ".py",
   "mimetype": "text/x-python",
   "name": "python",
   "nbconvert_exporter": "python",
   "pygments_lexer": "ipython3",
   "version": "3.11.6"
  }
 },
 "nbformat": 4,
 "nbformat_minor": 2
}
