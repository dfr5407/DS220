{
 "cells": [
  {
   "attachments": {},
   "cell_type": "markdown",
   "metadata": {},
   "source": [
    "**Use of the lego Dataset to work on Project 2: Data Analysis in Python**\n"
   ]
  },
  {
   "attachments": {},
   "cell_type": "markdown",
   "metadata": {},
   "source": [
    "Dataset Used: https://www.kaggle.com/datasets/mterzolo/lego-sets?select=lego_sets.csv"
   ]
  },
  {
   "attachments": {},
   "cell_type": "markdown",
   "metadata": {},
   "source": [
    "The dataset we used is a public dataset posted on Kaggle. The initial dataset was created by user 'MattieTerzolo' for the simple purpose of curiousity regarding questions regarding the world of Legos. The dataset is in a lego_sets.csv file with 14 various columns. Some of the columns include recommended ages, set name, price, piece count, and review ratings.\n",
    "\n",
    "Legos have been a staple in children’s entertainment for decades and continue to thrive in today’s climate with hundreds of thousands of children actively enjoying this renowned product. Developed from a wooden toy in the 1930s, The Lego Group is now estimated to be worth over 11 billion dollars, with hundreds of different products readily available. While many have come and gone with their own replicas, Lego has truly skyrocketed to become one of its own in the toy industry. "
   ]
  },
  {
   "attachments": {},
   "cell_type": "markdown",
   "metadata": {},
   "source": [
    "**Questions:**\n",
    "\n",
    "1. Which theme has the highest average star rating?\n",
    "2. What are the top 10 highest priced Lego sets?\n",
    "3. Piece count of lego sets based on themes. Which themes have the highest and lowest piece counts on average? Visualize the top 5.''\n",
    "4. Review difficulty based on age\n",
    "5. What is the correlation between the piece count and the price of each set?\n",
    "6. Interesting idea for a question (WE CHOOSE A THEME AND ANALYZE THE PRICE DIFFERENCES BETWEEN HEROES/VILLAINS LIKE BATMAN VS JOKER)??"
   ]
  },
  {
   "cell_type": "code",
   "execution_count": null,
   "metadata": {},
   "outputs": [],
   "source": [
    "import numpy as np\n",
    "import matplotlib.pyplot as plt\n",
    "import pandas as pd\n",
    "\n",
    "lego = pd.read_csv(\"datasets/lego_dataset.csv\")\n",
    "lego.describe()"
   ]
  },
  {
   "cell_type": "code",
   "execution_count": null,
   "metadata": {},
   "outputs": [],
   "source": [
    "lego.info()"
   ]
  },
  {
   "attachments": {},
   "cell_type": "markdown",
   "metadata": {},
   "source": [
    "The line below shows the name of all the themes of the various Lego sets in the database."
   ]
  },
  {
   "cell_type": "code",
   "execution_count": null,
   "metadata": {},
   "outputs": [],
   "source": [
    "print(lego[\"theme_name\"].unique())"
   ]
  },
  {
   "cell_type": "code",
   "execution_count": null,
   "metadata": {},
   "outputs": [],
   "source": [
    "print(lego[\"country\"].unique())"
   ]
  },
  {
   "cell_type": "code",
   "execution_count": null,
   "metadata": {},
   "outputs": [],
   "source": [
    "#current = (lego[[\"theme_name\",\"set_name\", \"list_price\"]])\n",
    "distinctsets = lego.drop_duplicates(subset = 'set_name')\n",
    "\n",
    "sortedByPrice = distinctsets.sort_values(by = 'list_price', ascending = False)\n",
    "sortedByPrice[['set_name','list_price']].head(10)\n",
    "# print(current.head(10))\n",
    "\n",
    "##THIS CODE HAS TO BE CHANGED SO THAT WE SORT FIRST AND THEN DROP DUPLICATES TO GET THE HIGHEST LIST PRICE"
   ]
  },
  {
   "cell_type": "code",
   "execution_count": null,
   "metadata": {},
   "outputs": [],
   "source": [
    "distinctthemes = lego.drop_duplicates(subset = 'theme_name')\n",
    "\n",
    "sortedByCount = distinctthemes.sort_values(by = 'piece_count', ascending = False)\n",
    "\n",
    "sortedByCount[['theme_name','piece_count']].head(10)\n",
    "##THIS CODE HAS TO BE CHANGED SAME AS ABOVE.\n"
   ]
  },
  {
   "cell_type": "code",
   "execution_count": 38,
   "metadata": {},
   "outputs": [
    {
     "data": {
      "text/plain": [
       "Text(0, 0.5, 'Theme')"
      ]
     },
     "execution_count": 38,
     "metadata": {},
     "output_type": "execute_result"
    },
    {
     "data": {
      "image/png": "[encoded data removed]",
      "text/plain": [
       "<Figure size 1080x576 with 1 Axes>"
      ]
     },
     "metadata": {
      "needs_background": "light"
     },
     "output_type": "display_data"
    }
   ],
   "source": [
    "#Question 3 \n",
    "#Piece count of lego sets based on themes. Which themes have the highest and lowest piece counts on average?\n",
    "\n",
    "#Data Calculations & Statistics\n",
    "theme_grouped = lego.groupby(\"theme_name\")\n",
    "piece_by_theme = theme_grouped[\"piece_count\"]\n",
    "meann = piece_by_theme.mean()\n",
    "piece_by_theme.median()\n",
    "\n",
    "top5 = meann.nlargest(5).reset_index()\n",
    "\n",
    "plt.figure(figsize=(15, 8))\n",
    "bar_colors = np.random.rand(5, 3)\n",
    "plt.bar(top5[\"theme_name\"], top5[\"piece_count\"], color= bar_colors)\n",
    "plt.title(\"Highest Average Piececount Based off Theme\") \n",
    "plt.xlabel(\"Average Piececount\", fontsize = 16)\n",
    "plt.ylabel(\"Theme\", fontsize = 18)\n",
    "\n",
    "\n",
    "# Find the top 5 themes based on mean\n",
    "\n",
    "\n"
   ]
  },
  {
   "cell_type": "code",
   "execution_count": null,
   "metadata": {},
   "outputs": [],
   "source": []
  }
 ],
 "metadata": {
  "kernelspec": {
   "display_name": "Python 3",
   "language": "python",
   "name": "python3"
  },
  "language_info": {
   "codemirror_mode": {
    "name": "ipython",
    "version": 3
   },
   "file_extension": ".py",
   "mimetype": "text/x-python",
   "name": "python",
   "nbconvert_exporter": "python",
   "pygments_lexer": "ipython3",
   "version": "3.9.12"
  }
 },
 "nbformat": 4,
 "nbformat_minor": 2
}
