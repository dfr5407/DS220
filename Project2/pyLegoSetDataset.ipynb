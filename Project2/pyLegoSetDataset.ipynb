{
 "cells": [
  {
   "attachments": {},
   "cell_type": "markdown",
   "metadata": {},
   "source": [
    "**Lego Dataset: Data Analysis in Python**\n"
   ]
  },
  {
   "attachments": {},
   "cell_type": "markdown",
   "metadata": {},
   "source": [
    "Legos have been a staple in children’s entertainment for decades and continue to thrive in today’s climate with hundreds of thousands of children actively enjoying this renowned product. Developed from a wooden toy in the 1930s, The Lego Group is now estimated to be worth over 11 billion dollars, with hundreds of different products readily available. While many have come and gone with their own replicas, Lego has truly skyrocketed to become one of its own in the toy industry. Consumers can buy Legos by set, which all contain a variety of pieces of different shapes and sizes that all fit together. These sets have many different themes, including partnerships with entertainment franchises such as Star Wars, Jurassic Park, and Harry Potter."
   ]
  },
  {
   "cell_type": "markdown",
   "metadata": {},
   "source": [
    "The dataset we used is a public dataset posted on Kaggle. The initial dataset was created by user 'MattieTerzolo' for the simple purpose of curiosity regarding questions regarding the world of Legos. The dataset is in a lego_sets.csv file with 14 various columns. Some of the columns include recommended ages, set name, price, piece count, and review ratings.\n",
    "\n",
    "**Dataset Used: https://www.kaggle.com/datasets/mterzolo/lego-sets?select=lego_sets.csv**"
   ]
  },
  {
   "attachments": {},
   "cell_type": "markdown",
   "metadata": {},
   "source": [
    "**Questions**\n",
    "\n",
    "\n",
    "2. How many products fall within the different price ranges? (We would have to categoirize this into low, medium, high).\n",
    "3. Piece count of lego sets based on themes. Which themes have the highest and lowest piece counts on average?\n",
    "4. What is the correlation between the piece count and the price of each set?\n",
    "5. Box plot for (CORRELATION BETWEEN PRICE AND REVIEW DIFFICULTY)\n",
    "6. COMPARE MOST EXPENSIVE SET VS CHEAPEST SET!!!!\n",
    "7. What age range is the most popular among Lego sets?\n"
   ]
  },
  {
   "cell_type": "markdown",
   "metadata": {},
   "source": [
    "**Data Wrangling**"
   ]
  },
  {
   "cell_type": "code",
   "execution_count": null,
   "metadata": {},
   "outputs": [],
   "source": [
    "import numpy as np\n",
    "import matplotlib.pyplot as plt\n",
    "import pandas as pd\n",
    "import seaborn as sns\n",
    "\n",
    "lego = pd.read_csv(\"datasets/lego_dataset.csv\")\n",
    "lego = lego.sort_values(by = 'list_price', ascending = False)\n",
    "lego.describe()"
   ]
  },
  {
   "cell_type": "markdown",
   "metadata": {},
   "source": [
    "The info function gives us an insight into the dataset."
   ]
  },
  {
   "cell_type": "code",
   "execution_count": null,
   "metadata": {},
   "outputs": [],
   "source": [
    "lego.info()"
   ]
  },
  {
   "attachments": {},
   "cell_type": "markdown",
   "metadata": {},
   "source": [
    "The line below shows the name of all the themes of the various Lego sets in the database."
   ]
  },
  {
   "cell_type": "code",
   "execution_count": null,
   "metadata": {},
   "outputs": [],
   "source": [
    "uniqueThemeNames = (lego[\"theme_name\"].unique())\n",
    "uniqueThemeNames"
   ]
  },
  {
   "cell_type": "markdown",
   "metadata": {},
   "source": [
    "The code shows the unique countries in the dataset."
   ]
  },
  {
   "cell_type": "code",
   "execution_count": null,
   "metadata": {},
   "outputs": [],
   "source": [
    "print(lego[\"country\"].unique())"
   ]
  },
  {
   "cell_type": "markdown",
   "metadata": {},
   "source": [
    "The code shows distinct set names in the dataset."
   ]
  },
  {
   "cell_type": "code",
   "execution_count": null,
   "metadata": {},
   "outputs": [],
   "source": [
    "distinctSets = lego.drop_duplicates(subset = 'set_name')\n",
    "#sortedByPrice = distinctSets.sort_values(by = 'list_price', ascending = False)\n",
    "#sortedByPrice[['set_name','list_price']].head(10)\n",
    "\n",
    "##THIS CODE HAS TO BE CHANGED SO THAT WE SORT FIRST AND THEN DROP DUPLICATES TO GET THE HIGHEST LIST PRICE"
   ]
  },
  {
   "cell_type": "markdown",
   "metadata": {},
   "source": [
    "This code shows distinct theme names in the dataset."
   ]
  },
  {
   "cell_type": "code",
   "execution_count": null,
   "metadata": {},
   "outputs": [],
   "source": [
    "distinctThemes = lego.drop_duplicates(subset = 'theme_name')\n",
    "\n",
    "sortedByCount = distinctThemes.sort_values(by = 'piece_count', ascending = False)\n",
    "\n",
    "sortedByCount[['theme_name','piece_count']].head(10)\n",
    "##THIS CODE HAS TO BE CHANGED SAME AS ABOVE.\n"
   ]
  },
  {
   "cell_type": "markdown",
   "metadata": {},
   "source": [
    "**Question 1: What features might contribute to a higher star rating?**"
   ]
  },
  {
   "attachments": {},
   "cell_type": "markdown",
   "metadata": {},
   "source": [
    "*The star rating of the Lego dataset is the accumulation of reviews based on what the customer thought of the product. These reviews provide future potential buyers with a baseline of what other consumers thought of the product.\n",
    "\n",
    "We began coding by pulling any relevant data that could have affected the star rating of a product, such as the price, number of reviews, and piece count. Afterward, we utilized the “group by” function to list the values of star reviews in ascending order. From here, we were able to draw multiple conclusions.*\n"
   ]
  },
  {
   "cell_type": "code",
   "execution_count": null,
   "metadata": {},
   "outputs": [],
   "source": [
    "##QUESTION 1\n",
    "\n",
    "stardf = lego[['list_price', 'num_reviews','piece_count','star_rating']]\n",
    "stardf = stardf.groupby('star_rating').mean().reset_index()\n",
    "\n",
    "stardf\n"
   ]
  },
  {
   "attachments": {},
   "cell_type": "markdown",
   "metadata": {},
   "source": [
    "*On average, the products with the worst reviews often had a high price for a low number of pieces. It can be assumed that the customer did not feel that they were getting the value of what they paid for from the product. Products with higher star ratings often provided a higher number of pieces, making the value of the product much higher.*\n"
   ]
  },
  {
   "cell_type": "markdown",
   "metadata": {},
   "source": [
    "**Question 2: How many products fall within the different price ranges? (We would have to categoirize this into low, medium, high).**"
   ]
  },
  {
   "cell_type": "code",
   "execution_count": null,
   "metadata": {},
   "outputs": [],
   "source": [
    "low = len(distinctSets.loc[distinctSets['list_price'] < 25])\n",
    "medium = len(distinctSets.loc[distinctSets['list_price'] < 50]) - low\n",
    "high = len(distinctSets.loc[distinctSets['list_price'] < 75]) - medium\n",
    "max_high = len(distinctSets.loc[distinctSets['list_price'] >= 75])\n",
    "print(low, medium, high)\n",
    "\n",
    "print(\"There are \" + str(low)+ \" low priced lego sets\" )\n",
    "print(\"There are \" + str(medium) + \" medium priced lego sets\" )\n",
    "print(\"There are \" + str(high) + \" high priced lego sets\" )\n",
    "print(\"There are \" + str(max_high) + \" very high priced lego sets\" )"
   ]
  },
  {
   "cell_type": "markdown",
   "metadata": {},
   "source": [
    "**Question 3: Piece count of lego sets based on themes. Which themes have the highest and lowest piece counts on average?**"
   ]
  },
  {
   "cell_type": "code",
   "execution_count": null,
   "metadata": {},
   "outputs": [],
   "source": [
    "#Question 3 \n",
    "# #Piece count of lego sets based on themes. Which themes have the highest and lowest piece counts on average? #Data Calculations & Statistics \n",
    "theme_grouped = distinctSets.groupby(\"theme_name\") \n",
    "pieceByTheme = theme_grouped[\"piece_count\"] \n",
    "distinctMean = pieceByTheme.mean() \n",
    "pieceByTheme.median() \n",
    "top10 = distinctMean.nlargest(10).reset_index() \n",
    "plt.figure(figsize=(25, 8)) \n",
    "bar_colors = np.random.rand(5, 3)\n",
    "plt.bar(top10[\"theme_name\"], top10[\"piece_count\"], color= bar_colors) \n",
    "plt.title(\"Highest Average Piececount Based off Theme\") \n",
    "plt.xlabel(\"Average Piececount\", fontsize = 16) \n",
    "plt.ylabel(\"Theme\", fontsize = 18) # Find the top 5 themes based on mean"
   ]
  },
  {
   "cell_type": "markdown",
   "metadata": {},
   "source": [
    "**Question 4: What is the correlation between the piece count and the price of each set?**"
   ]
  },
  {
   "attachments": {},
   "cell_type": "markdown",
   "metadata": {},
   "source": [
    "*For the manufacturer, the amount of pieces they use to create a product directly correlates with the price of the product for the consumer. If a product requires more pieces to create, it is going to up the costs of manufacturing. This code analyzes how the number of pieces can spike the price of a Lego product, visualizing a set’s number of pieces versus its price to see if there is a correlation.*\n"
   ]
  },
  {
   "cell_type": "code",
   "execution_count": null,
   "metadata": {},
   "outputs": [],
   "source": [
    "palette = sns.color_palette(\"husl\", n_colors=len(uniqueThemeNames))\n",
    "\n",
    "# Create a scatter plot for each theme\n",
    "for i, theme in enumerate(uniqueThemeNames):\n",
    "    theme_data = distinctSets[distinctSets['theme_name'] == theme]\n",
    "    plt.scatter(theme_data['piece_count'], theme_data['list_price'], label=theme, color=palette[i])\n",
    "    \n",
    "x = theme_data['piece_count'].mean()\n",
    "y = theme_data['list_price'].mean()\n",
    "\n",
    "plt.title('Piece Count vs List Price for Lego Sets')\n",
    "plt.xlabel('Piece Count')\n",
    "plt.ylabel('List Price')\n",
    "plt.legend(title='Theme', bbox_to_anchor=(1.05, 1), loc='upper left')  # Add a legend\n",
    "plt.show()\n",
    "\n"
   ]
  },
  {
   "attachments": {},
   "cell_type": "markdown",
   "metadata": {},
   "source": [
    "*Our code began by generating a for-loop to iterate through every Lego product in the dataset. Within the for-loop, we generated the scatter plot to mark our points. Based on which theme a set belonged to, the set generated a certain color. Based on the visualization, there is an overall positive correlation between the price and the number of pieces regardless of theme.*"
   ]
  },
  {
   "cell_type": "code",
   "execution_count": null,
   "metadata": {},
   "outputs": [],
   "source": [
    "x = round(x,3)\n",
    "y = round(y, 3)\n",
    "bestFit = ('y = ', x, 'x + ', y )\n",
    "print(''.join(map(str, bestFit)))"
   ]
  },
  {
   "cell_type": "markdown",
   "metadata": {},
   "source": [
    "**Question 6**"
   ]
  },
  {
   "cell_type": "code",
   "execution_count": null,
   "metadata": {},
   "outputs": [],
   "source": [
    "distinctSets.boxplot(column = 'list_price', by = 'review_difficulty', patch_artist = True, vert = False, showfliers = False, boxprops = dict(facecolor = 'lightblue'))\n",
    "plt.xlabel('Price of Individual Lego Sets')\n",
    "plt.ylabel('Assembly Difficulty Reviews')\n",
    "plt.title('Prices of Lego Sets by Review Difficulty')\n",
    "plt.suptitle('')"
   ]
  },
  {
   "cell_type": "code",
   "execution_count": null,
   "metadata": {},
   "outputs": [],
   "source": [
    "#Question 7\n",
    "\n",
    "mostExpensiveSet = distinctSets.head(1)\n",
    "leastExpensiveSet = distinctSets.tail(1)\n",
    "\n",
    "mostExpensiveSet\n",
    "leastExpensiveSet"
   ]
  },
  {
   "attachments": {},
   "cell_type": "markdown",
   "metadata": {},
   "source": [
    "**Question 7: What age range is most popular among lego sets?**"
   ]
  },
  {
   "attachments": {},
   "cell_type": "markdown",
   "metadata": {},
   "source": [
    "*When a Lego product is released, the label often recommends the set for a specific age range. This can vary from set to set and is often reflective of how difficult it is to build the Lego set. While this recommendation is irrelevant for anyone older, this can be important for consumers who want to buy it for a person of a certain age. Parents for example may not want to buy a toy for their child that can be too difficult to assemble.*\n"
   ]
  },
  {
   "cell_type": "code",
   "execution_count": null,
   "metadata": {},
   "outputs": [],
   "source": [
    "colors = ['lightblue', 'blue', 'green', 'purple', 'orange', 'yellow', 'pink', 'cyan', 'lightgreen', 'red']\n",
    "variousAges = distinctSets.groupby(['ages']).size().sort_values(ascending = True)\n",
    "\n",
    "percentage = variousAges / len(distinctSets)\n",
    "\n",
    "percentage.tail(10).plot.barh(color = colors)\n",
    "plt.xlabel('Percentage of Sets') \n",
    "plt.ylabel('Age Range')\n",
    "plt.title('Percentage of Lego Sets within Given Age Ranges')\n"
   ]
  },
  {
   "attachments": {},
   "cell_type": "markdown",
   "metadata": {},
   "source": [
    "*This code analyzes the dataset to understand what age group is most commonly used. The code begins by utilizing the “groupby” function to group all the sets best off their age groups and store them in ascending order. This line is followed by an operation to divide the various age groups by the total number of sets, calculating the total percentage each age group holds in the dataset. This data is visualized through a bar graph, which shows the ages between 7-14 were most popular among Lego sets.*"
   ]
  }
 ],
 "metadata": {
  "kernelspec": {
   "display_name": "Python 3",
   "language": "python",
   "name": "python3"
  },
  "language_info": {
   "codemirror_mode": {
    "name": "ipython",
    "version": 3
   },
   "file_extension": ".py",
   "mimetype": "text/x-python",
   "name": "python",
   "nbconvert_exporter": "python",
   "pygments_lexer": "ipython3",
   "version": "3.9.12"
  }
 },
 "nbformat": 4,
 "nbformat_minor": 2
}
